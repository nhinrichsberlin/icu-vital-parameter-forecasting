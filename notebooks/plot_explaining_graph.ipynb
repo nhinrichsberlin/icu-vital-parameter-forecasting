{
 "cells": [
  {
   "cell_type": "code",
   "execution_count": 1,
   "id": "5abf3273",
   "metadata": {},
   "outputs": [],
   "source": [
    "import os\n",
    "os.chdir('..')"
   ]
  },
  {
   "cell_type": "code",
   "execution_count": 2,
   "id": "7b57b9e9",
   "metadata": {},
   "outputs": [],
   "source": [
    "import pandas as pd\n",
    "import numpy as np\n",
    "import matplotlib.pyplot as plt\n",
    "from matplotlib.patches import ConnectionPatch\n",
    "import datetime"
   ]
  },
  {
   "cell_type": "code",
   "execution_count": 3,
   "id": "f1c8b216",
   "metadata": {},
   "outputs": [],
   "source": [
    "np.random.seed(12)"
   ]
  },
  {
   "cell_type": "code",
   "execution_count": 4,
   "id": "956f8141",
   "metadata": {},
   "outputs": [],
   "source": [
    "n = 39\n",
    "start = pd.to_datetime('2023-03-31 09:00:00')"
   ]
  },
  {
   "cell_type": "code",
   "execution_count": 5,
   "id": "5fdf9193",
   "metadata": {},
   "outputs": [],
   "source": [
    "ts = [50]\n",
    "for i in range(n - 1):\n",
    "    ts.append(ts[-1] + np.random.randint(low=-10, high=13))"
   ]
  },
  {
   "cell_type": "code",
   "execution_count": 6,
   "id": "a052660c",
   "metadata": {},
   "outputs": [],
   "source": [
    "index = [start + datetime.timedelta(minutes=int(i)) for i in np.arange(0, 5 * n, 5)]"
   ]
  },
  {
   "cell_type": "code",
   "execution_count": 7,
   "id": "93e86664",
   "metadata": {},
   "outputs": [],
   "source": [
    "ts = pd.Series(ts, index=index)"
   ]
  },
  {
   "cell_type": "code",
   "execution_count": 8,
   "id": "8869a90e",
   "metadata": {},
   "outputs": [],
   "source": [
    "times = [str(i)[-8:-3] for i in ts.index]"
   ]
  },
  {
   "cell_type": "code",
   "execution_count": 9,
   "id": "00b16033",
   "metadata": {},
   "outputs": [],
   "source": [
    "e = 37"
   ]
  },
  {
   "cell_type": "code",
   "execution_count": 10,
   "id": "53742ae4",
   "metadata": {},
   "outputs": [],
   "source": [
    "ts_to_plot = ts.copy()\n",
    "ts_to_plot[e:] = np.nan"
   ]
  },
  {
   "cell_type": "code",
   "execution_count": 11,
   "id": "2a0420a8",
   "metadata": {},
   "outputs": [],
   "source": [
    "forecast = ts_to_plot.copy()\n",
    "forecast[12:] = ts_to_plot[12]\n",
    "forecast[e:] = np.nan"
   ]
  },
  {
   "cell_type": "code",
   "execution_count": 12,
   "id": "bb1ddccd",
   "metadata": {
    "scrolled": true
   },
   "outputs": [],
   "source": [
    "#fig, a = plt.subplots(3, 1, figsize=(7.5, 7.5), dpi=1000)\n",
    "#\n",
    "#axes = {}\n",
    "#\n",
    "#for i in range(3):\n",
    "#    \n",
    "#    axes[f'ax_{i}'] = plt.subplot(3, 1, i + 1)\n",
    "#    axes[f'ax_{i}'].set_facecolor('lightgray')\n",
    "#    \n",
    "#    e = 37 + i\n",
    "#    \n",
    "#    ts_to_plot = ts.copy()\n",
    "#    ts_to_plot[e:] = np.nan\n",
    "#    \n",
    "#    forecast = ts_to_plot.copy()\n",
    "#    forecast[12 + i + 1:] = forecast[12 + i] + np.random.normal(0, 1.5, n - 12 - i - 1)\n",
    "#    forecast[37 + i:] = np.nan\n",
    "#    forecast[:12 + i + 1] = np.nan\n",
    "#    \n",
    "#    \n",
    "#    \n",
    "#    # make sure the x-axis covers all time steps\n",
    "#    _ = plt.plot(times,\n",
    "#                 ts,\n",
    "#                 color='lightgray',\n",
    "#                 linewidth=0.05)\n",
    "#\n",
    "#    # plot the forecast\n",
    "#    _ = plt.plot(times,\n",
    "#                 forecast,\n",
    "#                 color='red',\n",
    "#                 linewidth=0.05,\n",
    "#                 alpha=0.05)\n",
    "#    \n",
    "#    _ = plt.plot(times,\n",
    "#                 forecast,\n",
    "#                 color='red',\n",
    "#                 marker='o',\n",
    "#                 markersize=2)\n",
    "#\n",
    "#    # plot the true values\n",
    "#    _ = plt.plot(times,\n",
    "#                 ts_to_plot,\n",
    "#                 color='black',\n",
    "#                 linewidth=0.05,\n",
    "#                 alpha=0.05)\n",
    "#    \n",
    "#    _ = plt.plot(times,\n",
    "#                 ts_to_plot,\n",
    "#                 color='black',\n",
    "#                 marker='o',\n",
    "#                 markersize=2.25)\n",
    "#\n",
    "#\n",
    "#    # handle the ticks\n",
    "#    tick_locs, tick_labels = plt.xticks(times[:len(times) + i - 2], rotation=90, size=4)\n",
    "#    \n",
    "#    for j in [12, 36]:\n",
    "#        tick_labels[j + i].set_fontweight('bold')\n",
    "#        tick_labels[j + i].set_fontsize(4.5)\n",
    "#        \n",
    "#    _ = plt.yticks(np.linspace(ts.min(), 1.05 * ts.max(), 10), labels=[])\n",
    "#\n",
    "#    # handle the ylim\n",
    "#    _ = plt.ylim(0.9 * ts.min(), 1.1 * ts.max())\n",
    "#\n",
    "#    _ = plt.xlabel('')\n",
    "#    _ = plt.ylabel('Vital parameter', fontsize=4.5, labelpad=-13)\n",
    "#    _ = plt.margins(0)\n",
    "#    \n",
    "#\n",
    "#    # add background colors\n",
    "#    _ = plt.axvspan(times[0], \n",
    "#                    times[12 + i],\n",
    "#                    color='green',\n",
    "#                    alpha=0.25)\n",
    "#    _ = plt.axvspan(times[12 + i],\n",
    "#                    times[e - 1], \n",
    "#                    color='blue', \n",
    "#                    alpha=0.25)\n",
    "#    \n",
    "#    # add forecast errors\n",
    "#    for k in [3, 9]:\n",
    "#        j = 12 + i + k\n",
    "#        _ = plt.vlines(x=times[j],\n",
    "#                       ymin=forecast[j],\n",
    "#                       ymax=ts[j],\n",
    "#                       color='black',\n",
    "#                       linewidth=1,\n",
    "#                       linestyle='dotted')\n",
    "#\n",
    "#        # indicate forecast time\n",
    "#        _ = plt.text(x=times[-8],\n",
    "#                     y=0.92 * forecast[-8],\n",
    "#                     s=f'Forecast from {times[12 + i]}',\n",
    "#                     fontsize=4.5,\n",
    "#                     color='red',\n",
    "#                     fontweight='bold')\n",
    "#        \n",
    "#        # indicate the forecast error\n",
    "#        _ = plt.text(x=j - 0.8,\n",
    "#                     y=0.85 * min(forecast[j], ts[j]),\n",
    "#                     s=f'Forecast error \\n {5 * k} min. ahead',\n",
    "#                     fontsize=3.5)\n",
    "#        \n",
    "#        _ = plt.text(x=times[-8],\n",
    "#                     y=1.04 * ts[-4],\n",
    "#                     s='True progression',\n",
    "#                     fontsize=4.5,\n",
    "#                     fontweight='bold')\n",
    "#        \n",
    "#        _ = plt.text(x=times[1],\n",
    "#                     y=ts.max(),\n",
    "#                     s=f'Observed past  {times[0]} - {times[12 + i]}',\n",
    "#                     color='black',\n",
    "#                     fontsize=6,\n",
    "#                     fontweight='bold')\n",
    "#        \n",
    "#        _ = plt.text(x=times[15],\n",
    "#                     y=ts.max(),\n",
    "#                     s=f'Forecast window  {times[13 + i]} - {times[36 + i]}',\n",
    "#                     fontsize=6,\n",
    "#                     fontweight='bold')\n",
    "#        \n",
    "## add connecting arrows\n",
    "#arr1 = ConnectionPatch(xyA=(-0.7, 0.5 * ts.max()),\n",
    "#                       xyB=(-0.7, 0.85 * ts.max()),\n",
    "#                       coordsA=axes['ax_0'].transData,\n",
    "#                       coordsB=axes['ax_1'].transData,\n",
    "#                       arrowstyle=\"->\",\n",
    "#                       linewidth=2.5,\n",
    "#                       mutation_scale=10,\n",
    "#                       color='black')\n",
    "#\n",
    "#arr2 = ConnectionPatch(xyA=(-0.7, 0.5 * ts.max()),\n",
    "#                       xyB=(-0.7, 0.85 * ts.max()),\n",
    "#                       coordsA=axes['ax_1'].transData,\n",
    "#                       coordsB=axes['ax_2'].transData,\n",
    "#                       arrowstyle=\"->\",\n",
    "#                       linewidth=2.5,\n",
    "#                       mutation_scale=10,\n",
    "#                       color='black')\n",
    "#\n",
    "#fig.patches.append(arr1)\n",
    "#fig.patches.append(arr2)\n",
    "#\n",
    "#for l in [0, 1]:\n",
    "#    axes[f'ax_{l}'].text(-1.35,\n",
    "#                         0.3 * ts.min(),\n",
    "#                         '+ 5 minutes',\n",
    "#                         rotation='vertical',\n",
    "#                         fontsize=5,\n",
    "#                         fontweight='bold')\n",
    "#    \n",
    "## save the graph\n",
    "#_ = plt.savefig('evaluation/plots/performance/explain_forecasting.tiff',\n",
    "#                bbox_inches='tight',\n",
    "#                format=\"tiff\",\n",
    "#                pil_kwargs={\"compression\": \"tiff_lzw\"})"
   ]
  }
 ],
 "metadata": {
  "kernelspec": {
   "display_name": "Python 3 (ipykernel)",
   "language": "python",
   "name": "python3"
  },
  "language_info": {
   "codemirror_mode": {
    "name": "ipython",
    "version": 3
   },
   "file_extension": ".py",
   "mimetype": "text/x-python",
   "name": "python",
   "nbconvert_exporter": "python",
   "pygments_lexer": "ipython3",
   "version": "3.10.5"
  }
 },
 "nbformat": 4,
 "nbformat_minor": 5
}
